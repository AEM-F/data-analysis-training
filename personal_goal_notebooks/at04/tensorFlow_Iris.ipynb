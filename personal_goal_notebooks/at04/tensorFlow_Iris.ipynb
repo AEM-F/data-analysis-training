{
 "cells": [
  {
   "cell_type": "code",
   "execution_count": 1,
   "metadata": {
    "_cell_guid": "b8e33838-d67f-4fd0-ab44-064822938bcb",
    "_uuid": "2629654c-8f41-4676-96a4-687741e01ad7",
    "execution": {
     "iopub.execute_input": "2021-07-20T18:22:50.44174Z",
     "iopub.status.busy": "2021-07-20T18:22:50.441192Z",
     "iopub.status.idle": "2021-07-20T18:22:50.451302Z",
     "shell.execute_reply": "2021-07-20T18:22:50.450398Z",
     "shell.execute_reply.started": "2021-07-20T18:22:50.4417Z"
    },
    "jupyter": {
     "outputs_hidden": false
    }
   },
   "outputs": [],
   "source": [
    "import numpy as np\n",
    "import pandas as pd \n",
    "from sklearn import datasets"
   ]
  },
  {
   "cell_type": "markdown",
   "metadata": {
    "_cell_guid": "50e4c431-433a-4491-8c3c-c6440068d189",
    "_uuid": "afd8ba84-edb7-4165-a641-0da4a196cfa6"
   },
   "source": [
    "Libraries"
   ]
  },
  {
   "cell_type": "code",
   "execution_count": 4,
   "metadata": {
    "_cell_guid": "8af8cfa0-0559-4d6b-bdcf-ab6b8b47a55a",
    "_uuid": "cde572a2-f445-4215-af1f-2538c6b5d0de",
    "execution": {
     "iopub.execute_input": "2021-07-20T18:22:50.453214Z",
     "iopub.status.busy": "2021-07-20T18:22:50.452736Z",
     "iopub.status.idle": "2021-07-20T18:22:50.463227Z",
     "shell.execute_reply": "2021-07-20T18:22:50.462189Z",
     "shell.execute_reply.started": "2021-07-20T18:22:50.453176Z"
    },
    "jupyter": {
     "outputs_hidden": false
    }
   },
   "outputs": [
    {
     "name": "stdout",
     "output_type": "stream",
     "text": [
      "Collecting torch\n",
      "  Downloading torch-1.13.1-cp38-cp38-win_amd64.whl (162.6 MB)\n",
      "Requirement already satisfied: typing-extensions in c:\\anaconda3\\lib\\site-packages (from torch) (3.7.4.3)\n",
      "Installing collected packages: torch\n",
      "Successfully installed torch-1.13.1\n"
     ]
    }
   ],
   "source": [
    "!pip install torch\n",
    "import torch\n",
    "import torch.nn as nn\n",
    "import matplotlib.pyplot as plt\n",
    "%matplotlib inline"
   ]
  },
  {
   "cell_type": "markdown",
   "metadata": {},
   "source": [
    "Load Dataset"
   ]
  },
  {
   "cell_type": "code",
   "execution_count": 16,
   "metadata": {
    "_cell_guid": "079121a7-5693-454b-bfde-6177b579f2d0",
    "_uuid": "5afeabe9-2fe7-43ca-b5cb-7deb56a13737",
    "execution": {
     "iopub.execute_input": "2021-07-20T18:22:50.466591Z",
     "iopub.status.busy": "2021-07-20T18:22:50.466066Z",
     "iopub.status.idle": "2021-07-20T18:22:50.487381Z",
     "shell.execute_reply": "2021-07-20T18:22:50.485931Z",
     "shell.execute_reply.started": "2021-07-20T18:22:50.466538Z"
    },
    "jupyter": {
     "outputs_hidden": false
    }
   },
   "outputs": [],
   "source": [
    "df1 = pd.read_csv('iris.data.csv');"
   ]
  },
  {
   "cell_type": "code",
   "execution_count": 17,
   "metadata": {
    "_cell_guid": "d4e04c7a-7753-48e2-818a-6778e2aeeded",
    "_uuid": "f38a34e0-9f1c-410b-9001-dae6ac423287",
    "execution": {
     "iopub.execute_input": "2021-07-20T18:22:50.490377Z",
     "iopub.status.busy": "2021-07-20T18:22:50.489839Z",
     "iopub.status.idle": "2021-07-20T18:22:50.506853Z",
     "shell.execute_reply": "2021-07-20T18:22:50.505706Z",
     "shell.execute_reply.started": "2021-07-20T18:22:50.490322Z"
    },
    "jupyter": {
     "outputs_hidden": false
    }
   },
   "outputs": [
    {
     "data": {
      "text/html": [
       "<div>\n",
       "<style scoped>\n",
       "    .dataframe tbody tr th:only-of-type {\n",
       "        vertical-align: middle;\n",
       "    }\n",
       "\n",
       "    .dataframe tbody tr th {\n",
       "        vertical-align: top;\n",
       "    }\n",
       "\n",
       "    .dataframe thead th {\n",
       "        text-align: right;\n",
       "    }\n",
       "</style>\n",
       "<table border=\"1\" class=\"dataframe\">\n",
       "  <thead>\n",
       "    <tr style=\"text-align: right;\">\n",
       "      <th></th>\n",
       "      <th>5.1</th>\n",
       "      <th>3.5</th>\n",
       "      <th>1.4</th>\n",
       "      <th>0.2</th>\n",
       "      <th>Iris-setosa</th>\n",
       "    </tr>\n",
       "  </thead>\n",
       "  <tbody>\n",
       "    <tr>\n",
       "      <th>0</th>\n",
       "      <td>4.9</td>\n",
       "      <td>3.0</td>\n",
       "      <td>1.4</td>\n",
       "      <td>0.2</td>\n",
       "      <td>Iris-setosa</td>\n",
       "    </tr>\n",
       "    <tr>\n",
       "      <th>1</th>\n",
       "      <td>4.7</td>\n",
       "      <td>3.2</td>\n",
       "      <td>1.3</td>\n",
       "      <td>0.2</td>\n",
       "      <td>Iris-setosa</td>\n",
       "    </tr>\n",
       "    <tr>\n",
       "      <th>2</th>\n",
       "      <td>4.6</td>\n",
       "      <td>3.1</td>\n",
       "      <td>1.5</td>\n",
       "      <td>0.2</td>\n",
       "      <td>Iris-setosa</td>\n",
       "    </tr>\n",
       "    <tr>\n",
       "      <th>3</th>\n",
       "      <td>5.0</td>\n",
       "      <td>3.6</td>\n",
       "      <td>1.4</td>\n",
       "      <td>0.2</td>\n",
       "      <td>Iris-setosa</td>\n",
       "    </tr>\n",
       "    <tr>\n",
       "      <th>4</th>\n",
       "      <td>5.4</td>\n",
       "      <td>3.9</td>\n",
       "      <td>1.7</td>\n",
       "      <td>0.4</td>\n",
       "      <td>Iris-setosa</td>\n",
       "    </tr>\n",
       "  </tbody>\n",
       "</table>\n",
       "</div>"
      ],
      "text/plain": [
       "   5.1  3.5  1.4  0.2  Iris-setosa\n",
       "0  4.9  3.0  1.4  0.2  Iris-setosa\n",
       "1  4.7  3.2  1.3  0.2  Iris-setosa\n",
       "2  4.6  3.1  1.5  0.2  Iris-setosa\n",
       "3  5.0  3.6  1.4  0.2  Iris-setosa\n",
       "4  5.4  3.9  1.7  0.4  Iris-setosa"
      ]
     },
     "execution_count": 17,
     "metadata": {},
     "output_type": "execute_result"
    }
   ],
   "source": [
    "df1.head()"
   ]
  },
  {
   "cell_type": "code",
   "execution_count": 21,
   "metadata": {
    "_cell_guid": "ad808200-a38c-4685-b001-adbfeaa7fe7d",
    "_uuid": "ec5d0735-6139-454c-a0ee-747398756811",
    "execution": {
     "iopub.execute_input": "2021-07-20T18:22:50.542584Z",
     "iopub.status.busy": "2021-07-20T18:22:50.542119Z",
     "iopub.status.idle": "2021-07-20T18:22:50.551728Z",
     "shell.execute_reply": "2021-07-20T18:22:50.550585Z",
     "shell.execute_reply.started": "2021-07-20T18:22:50.542534Z"
    },
    "jupyter": {
     "outputs_hidden": false
    }
   },
   "outputs": [
    {
     "data": {
      "text/plain": [
       "array(['Iris-setosa', 'Iris-versicolor', 'Iris-virginica'], dtype=object)"
      ]
     },
     "execution_count": 21,
     "metadata": {},
     "output_type": "execute_result"
    }
   ],
   "source": [
    "df1['Iris-setosa'].unique()"
   ]
  },
  {
   "cell_type": "markdown",
   "metadata": {
    "_cell_guid": "5fbeecb7-dacd-4410-953f-cd74b28c0bb0",
    "_uuid": "136025b7-1849-4a01-830f-ae638ee39660"
   },
   "source": [
    "LabelEncoding"
   ]
  },
  {
   "cell_type": "code",
   "execution_count": 22,
   "metadata": {
    "_cell_guid": "a46614c4-d2f7-41e3-905d-3c492b698e1f",
    "_uuid": "c739d74d-fc07-481d-834c-d5223c031692",
    "execution": {
     "iopub.execute_input": "2021-07-20T18:22:50.55457Z",
     "iopub.status.busy": "2021-07-20T18:22:50.55413Z",
     "iopub.status.idle": "2021-07-20T18:22:50.569851Z",
     "shell.execute_reply": "2021-07-20T18:22:50.568383Z",
     "shell.execute_reply.started": "2021-07-20T18:22:50.554535Z"
    },
    "jupyter": {
     "outputs_hidden": false
    }
   },
   "outputs": [],
   "source": [
    "df1['Species'] = df1['Iris-setosa'].map({'Iris-setosa':0,'Iris-versicolor':1,'Iris-virginica':2})"
   ]
  },
  {
   "cell_type": "code",
   "execution_count": 26,
   "metadata": {
    "_cell_guid": "f222ba25-ac52-4c0f-b645-fc6fef575d4c",
    "_uuid": "123dab47-86f8-4593-b658-ef4ea3f86538",
    "execution": {
     "iopub.execute_input": "2021-07-20T18:22:50.572225Z",
     "iopub.status.busy": "2021-07-20T18:22:50.57177Z",
     "iopub.status.idle": "2021-07-20T18:22:50.594808Z",
     "shell.execute_reply": "2021-07-20T18:22:50.593585Z",
     "shell.execute_reply.started": "2021-07-20T18:22:50.572186Z"
    },
    "jupyter": {
     "outputs_hidden": false
    }
   },
   "outputs": [
    {
     "data": {
      "text/html": [
       "<div>\n",
       "<style scoped>\n",
       "    .dataframe tbody tr th:only-of-type {\n",
       "        vertical-align: middle;\n",
       "    }\n",
       "\n",
       "    .dataframe tbody tr th {\n",
       "        vertical-align: top;\n",
       "    }\n",
       "\n",
       "    .dataframe thead th {\n",
       "        text-align: right;\n",
       "    }\n",
       "</style>\n",
       "<table border=\"1\" class=\"dataframe\">\n",
       "  <thead>\n",
       "    <tr style=\"text-align: right;\">\n",
       "      <th></th>\n",
       "      <th>5.1</th>\n",
       "      <th>3.5</th>\n",
       "      <th>1.4</th>\n",
       "      <th>0.2</th>\n",
       "      <th>Iris-setosa</th>\n",
       "      <th>Species</th>\n",
       "    </tr>\n",
       "  </thead>\n",
       "  <tbody>\n",
       "    <tr>\n",
       "      <th>0</th>\n",
       "      <td>4.9</td>\n",
       "      <td>3.0</td>\n",
       "      <td>1.4</td>\n",
       "      <td>0.2</td>\n",
       "      <td>Iris-setosa</td>\n",
       "      <td>0</td>\n",
       "    </tr>\n",
       "    <tr>\n",
       "      <th>1</th>\n",
       "      <td>4.7</td>\n",
       "      <td>3.2</td>\n",
       "      <td>1.3</td>\n",
       "      <td>0.2</td>\n",
       "      <td>Iris-setosa</td>\n",
       "      <td>0</td>\n",
       "    </tr>\n",
       "    <tr>\n",
       "      <th>2</th>\n",
       "      <td>4.6</td>\n",
       "      <td>3.1</td>\n",
       "      <td>1.5</td>\n",
       "      <td>0.2</td>\n",
       "      <td>Iris-setosa</td>\n",
       "      <td>0</td>\n",
       "    </tr>\n",
       "    <tr>\n",
       "      <th>3</th>\n",
       "      <td>5.0</td>\n",
       "      <td>3.6</td>\n",
       "      <td>1.4</td>\n",
       "      <td>0.2</td>\n",
       "      <td>Iris-setosa</td>\n",
       "      <td>0</td>\n",
       "    </tr>\n",
       "    <tr>\n",
       "      <th>4</th>\n",
       "      <td>5.4</td>\n",
       "      <td>3.9</td>\n",
       "      <td>1.7</td>\n",
       "      <td>0.4</td>\n",
       "      <td>Iris-setosa</td>\n",
       "      <td>0</td>\n",
       "    </tr>\n",
       "  </tbody>\n",
       "</table>\n",
       "</div>"
      ],
      "text/plain": [
       "   5.1  3.5  1.4  0.2  Iris-setosa  Species\n",
       "0  4.9  3.0  1.4  0.2  Iris-setosa        0\n",
       "1  4.7  3.2  1.3  0.2  Iris-setosa        0\n",
       "2  4.6  3.1  1.5  0.2  Iris-setosa        0\n",
       "3  5.0  3.6  1.4  0.2  Iris-setosa        0\n",
       "4  5.4  3.9  1.7  0.4  Iris-setosa        0"
      ]
     },
     "execution_count": 26,
     "metadata": {},
     "output_type": "execute_result"
    }
   ],
   "source": [
    "df1.head()"
   ]
  },
  {
   "cell_type": "code",
   "execution_count": 28,
   "metadata": {},
   "outputs": [],
   "source": [
    "df1.drop('Iris-setosa', axis=1, inplace=True)"
   ]
  },
  {
   "cell_type": "code",
   "execution_count": 29,
   "metadata": {
    "_cell_guid": "f4e2d8c8-ce22-4c0f-a6ad-c86ad8d31a48",
    "_uuid": "bd32fb86-b85b-4848-af08-56148f117ab2",
    "execution": {
     "iopub.execute_input": "2021-07-20T18:22:50.638727Z",
     "iopub.status.busy": "2021-07-20T18:22:50.638374Z",
     "iopub.status.idle": "2021-07-20T18:22:50.644563Z",
     "shell.execute_reply": "2021-07-20T18:22:50.643656Z",
     "shell.execute_reply.started": "2021-07-20T18:22:50.638693Z"
    },
    "jupyter": {
     "outputs_hidden": false
    }
   },
   "outputs": [],
   "source": [
    "X = df1.drop([\"Species\"],axis=1).values\n",
    "y = df1[\"Species\"].values"
   ]
  },
  {
   "cell_type": "code",
   "execution_count": 30,
   "metadata": {
    "_cell_guid": "13611d31-f4ea-479e-b4e6-838717f7eec7",
    "_uuid": "15c548da-dec4-4dcf-8a41-71fbcfb5f380",
    "execution": {
     "iopub.execute_input": "2021-07-20T18:22:50.646251Z",
     "iopub.status.busy": "2021-07-20T18:22:50.645924Z",
     "iopub.status.idle": "2021-07-20T18:22:50.658936Z",
     "shell.execute_reply": "2021-07-20T18:22:50.657939Z",
     "shell.execute_reply.started": "2021-07-20T18:22:50.64622Z"
    },
    "jupyter": {
     "outputs_hidden": false
    }
   },
   "outputs": [],
   "source": [
    "from sklearn.preprocessing import StandardScaler\n",
    "from sklearn.model_selection import train_test_split"
   ]
  },
  {
   "cell_type": "code",
   "execution_count": 31,
   "metadata": {
    "_cell_guid": "3bc6f2f9-9b29-465c-b51b-2ca5a0eb4616",
    "_uuid": "2c84bc78-06dc-46b8-984f-71232cc55578",
    "execution": {
     "iopub.execute_input": "2021-07-20T18:22:50.660853Z",
     "iopub.status.busy": "2021-07-20T18:22:50.660282Z",
     "iopub.status.idle": "2021-07-20T18:22:50.670905Z",
     "shell.execute_reply": "2021-07-20T18:22:50.669927Z",
     "shell.execute_reply.started": "2021-07-20T18:22:50.660819Z"
    },
    "jupyter": {
     "outputs_hidden": false
    }
   },
   "outputs": [],
   "source": [
    "scaler = StandardScaler()"
   ]
  },
  {
   "cell_type": "markdown",
   "metadata": {},
   "source": [
    "Train & Test & Split"
   ]
  },
  {
   "cell_type": "code",
   "execution_count": 32,
   "metadata": {
    "_cell_guid": "b780843c-d4a8-4e45-b495-a9201f1a0ea7",
    "_uuid": "702cd513-366d-4724-ba6b-c97371bc8a4f",
    "execution": {
     "iopub.execute_input": "2021-07-20T18:22:50.672615Z",
     "iopub.status.busy": "2021-07-20T18:22:50.672094Z",
     "iopub.status.idle": "2021-07-20T18:22:50.684964Z",
     "shell.execute_reply": "2021-07-20T18:22:50.683757Z",
     "shell.execute_reply.started": "2021-07-20T18:22:50.672579Z"
    },
    "jupyter": {
     "outputs_hidden": false
    }
   },
   "outputs": [],
   "source": [
    "X_train, X_test, y_train, y_test = train_test_split(X, y, test_size=0.30, random_state=42)"
   ]
  },
  {
   "cell_type": "code",
   "execution_count": 33,
   "metadata": {
    "_cell_guid": "e8f8d8a6-805a-48c1-9058-b34c45c400a5",
    "_uuid": "f610020b-b39f-47a6-a63f-87ea3b2d33f3",
    "execution": {
     "iopub.execute_input": "2021-07-20T18:22:50.687045Z",
     "iopub.status.busy": "2021-07-20T18:22:50.686721Z",
     "iopub.status.idle": "2021-07-20T18:22:50.698063Z",
     "shell.execute_reply": "2021-07-20T18:22:50.696867Z",
     "shell.execute_reply.started": "2021-07-20T18:22:50.687014Z"
    },
    "jupyter": {
     "outputs_hidden": false
    }
   },
   "outputs": [],
   "source": [
    "X_train = scaler.fit_transform(X_train)\n",
    "X_test = scaler.transform(X_test)"
   ]
  },
  {
   "cell_type": "markdown",
   "metadata": {},
   "source": [
    "Converting from Numpy Array to Torch Tensor"
   ]
  },
  {
   "cell_type": "code",
   "execution_count": 34,
   "metadata": {
    "_cell_guid": "8e04a541-7524-43fe-9b46-38d2e28c53bf",
    "_uuid": "ad8c9423-839f-47c6-8c95-15a511d1099d",
    "execution": {
     "iopub.execute_input": "2021-07-20T18:22:50.699881Z",
     "iopub.status.busy": "2021-07-20T18:22:50.699569Z",
     "iopub.status.idle": "2021-07-20T18:22:50.709374Z",
     "shell.execute_reply": "2021-07-20T18:22:50.708328Z",
     "shell.execute_reply.started": "2021-07-20T18:22:50.699852Z"
    },
    "jupyter": {
     "outputs_hidden": false
    }
   },
   "outputs": [],
   "source": [
    "X_train = torch.FloatTensor(X_train)\n",
    "X_test = torch.FloatTensor(X_test)\n",
    "y_train = torch.LongTensor(y_train)\n",
    "y_test = torch.LongTensor(y_test)"
   ]
  },
  {
   "cell_type": "markdown",
   "metadata": {},
   "source": [
    "Create model"
   ]
  },
  {
   "cell_type": "code",
   "execution_count": 35,
   "metadata": {
    "_cell_guid": "0a4541eb-bde5-4fd7-8fbc-2d6ee529c2ba",
    "_uuid": "7be16122-048c-4dd4-8e72-bc066ac486fe",
    "execution": {
     "iopub.execute_input": "2021-07-20T18:22:50.711083Z",
     "iopub.status.busy": "2021-07-20T18:22:50.710778Z",
     "iopub.status.idle": "2021-07-20T18:22:50.721447Z",
     "shell.execute_reply": "2021-07-20T18:22:50.720415Z",
     "shell.execute_reply.started": "2021-07-20T18:22:50.711053Z"
    },
    "jupyter": {
     "outputs_hidden": false
    }
   },
   "outputs": [],
   "source": [
    "class NeuralNetworkClassificationModel(nn.Module):\n",
    "    def __init__(self,input_dim,output_dim):\n",
    "        super(NeuralNetworkClassificationModel,self).__init__()\n",
    "        self.input_layer    = nn.Linear(input_dim,128)\n",
    "        self.hidden_layer1  = nn.Linear(128,64)\n",
    "        self.output_layer   = nn.Linear(64,output_dim)\n",
    "        self.relu = nn.ReLU()\n",
    "    \n",
    "    \n",
    "    def forward(self,x):\n",
    "        out =  self.relu(self.input_layer(x))\n",
    "        out =  self.relu(self.hidden_layer1(out))\n",
    "        out =  self.output_layer(out)\n",
    "        return out"
   ]
  },
  {
   "cell_type": "code",
   "execution_count": 36,
   "metadata": {
    "_cell_guid": "7d5910e3-efe5-4b33-91f2-13cad14d65fa",
    "_uuid": "066d7bca-76ee-4223-b77d-1fa5076a818e",
    "execution": {
     "iopub.execute_input": "2021-07-20T18:22:50.725197Z",
     "iopub.status.busy": "2021-07-20T18:22:50.724843Z",
     "iopub.status.idle": "2021-07-20T18:22:50.733307Z",
     "shell.execute_reply": "2021-07-20T18:22:50.732234Z",
     "shell.execute_reply.started": "2021-07-20T18:22:50.725163Z"
    },
    "jupyter": {
     "outputs_hidden": false
    }
   },
   "outputs": [],
   "source": [
    "# input_dim = 4 because we have 4 inputs namely sepal_length,sepal_width,petal_length,petal_width\n",
    "# output_dim = 3 because we have namely 3 categories setosa,versicolor and virginica\n",
    "input_dim  = 4 \n",
    "output_dim = 3\n",
    "model = NeuralNetworkClassificationModel(input_dim,output_dim)"
   ]
  },
  {
   "cell_type": "code",
   "execution_count": 37,
   "metadata": {
    "_cell_guid": "516cd875-5679-4183-a316-402ffd58a688",
    "_uuid": "85f761ac-d238-4082-9817-f3f50f56bd3a",
    "execution": {
     "iopub.execute_input": "2021-07-20T18:22:50.735456Z",
     "iopub.status.busy": "2021-07-20T18:22:50.735126Z",
     "iopub.status.idle": "2021-07-20T18:22:50.744695Z",
     "shell.execute_reply": "2021-07-20T18:22:50.743656Z",
     "shell.execute_reply.started": "2021-07-20T18:22:50.735425Z"
    },
    "jupyter": {
     "outputs_hidden": false
    }
   },
   "outputs": [],
   "source": [
    "# creating our optimizer and loss function object\n",
    "learning_rate = 0.01\n",
    "criterion = nn.CrossEntropyLoss()\n",
    "optimizer = torch.optim.Adam(model.parameters(),lr=learning_rate)"
   ]
  },
  {
   "cell_type": "code",
   "execution_count": 38,
   "metadata": {
    "_cell_guid": "7e49f67e-a267-4b30-ae52-63bc81d3dcd5",
    "_uuid": "8c1d977d-fb09-4976-b45e-6eec4cdcf6a9",
    "execution": {
     "iopub.execute_input": "2021-07-20T18:22:50.74684Z",
     "iopub.status.busy": "2021-07-20T18:22:50.746507Z",
     "iopub.status.idle": "2021-07-20T18:22:50.760828Z",
     "shell.execute_reply": "2021-07-20T18:22:50.759643Z",
     "shell.execute_reply.started": "2021-07-20T18:22:50.746804Z"
    },
    "jupyter": {
     "outputs_hidden": false
    }
   },
   "outputs": [],
   "source": [
    "def train_network(model,optimizer,criterion,X_train,y_train,X_test,y_test,num_epochs,train_losses,test_losses):\n",
    "    for epoch in range(num_epochs):\n",
    "        #clear out the gradients from the last step loss.backward()\n",
    "        optimizer.zero_grad()\n",
    "        \n",
    "        #forward feed\n",
    "        output_train = model(X_train)\n",
    "\n",
    "        #calculate the loss\n",
    "        loss_train = criterion(output_train, y_train)\n",
    "        \n",
    "\n",
    "\n",
    "        #backward propagation: calculate gradients\n",
    "        loss_train.backward()\n",
    "\n",
    "        #update the weights\n",
    "        optimizer.step()\n",
    "\n",
    "        \n",
    "        output_test = model(X_test)\n",
    "        loss_test = criterion(output_test,y_test)\n",
    "\n",
    "        train_losses[epoch] = loss_train.item()\n",
    "        test_losses[epoch] = loss_test.item()\n",
    "\n",
    "        if (epoch + 1) % 50 == 0:\n",
    "            print(f\"Epoch {epoch+1}/{num_epochs}, Train Loss: {loss_train.item():.4f}, Test Loss: {loss_test.item():.4f}\")"
   ]
  },
  {
   "cell_type": "code",
   "execution_count": 39,
   "metadata": {
    "_cell_guid": "6b1fb37d-e685-41e9-ac5c-c4a7a9bf2805",
    "_uuid": "4a80c1af-a548-4830-8b68-f9ce77f863d4",
    "execution": {
     "iopub.execute_input": "2021-07-20T18:22:50.763071Z",
     "iopub.status.busy": "2021-07-20T18:22:50.762451Z",
     "iopub.status.idle": "2021-07-20T18:22:50.772416Z",
     "shell.execute_reply": "2021-07-20T18:22:50.771362Z",
     "shell.execute_reply.started": "2021-07-20T18:22:50.76302Z"
    },
    "jupyter": {
     "outputs_hidden": false
    }
   },
   "outputs": [],
   "source": [
    "num_epochs = 1000\n",
    "train_losses = np.zeros(num_epochs)\n",
    "test_losses  = np.zeros(num_epochs)"
   ]
  },
  {
   "cell_type": "code",
   "execution_count": 40,
   "metadata": {
    "_cell_guid": "67b5f88a-b8a6-4e2e-86ac-986cc952498e",
    "_uuid": "2dbb9a3c-3d13-49b2-b978-1bd3107d72cb",
    "execution": {
     "iopub.execute_input": "2021-07-20T18:22:50.774983Z",
     "iopub.status.busy": "2021-07-20T18:22:50.774079Z",
     "iopub.status.idle": "2021-07-20T18:22:52.484996Z",
     "shell.execute_reply": "2021-07-20T18:22:52.483915Z",
     "shell.execute_reply.started": "2021-07-20T18:22:50.774926Z"
    },
    "jupyter": {
     "outputs_hidden": false
    }
   },
   "outputs": [
    {
     "name": "stdout",
     "output_type": "stream",
     "text": [
      "Epoch 50/1000, Train Loss: 0.0017, Test Loss: 0.5044\n",
      "Epoch 100/1000, Train Loss: 0.0004, Test Loss: 0.6257\n",
      "Epoch 150/1000, Train Loss: 0.0002, Test Loss: 0.6912\n",
      "Epoch 200/1000, Train Loss: 0.0001, Test Loss: 0.7348\n",
      "Epoch 250/1000, Train Loss: 0.0001, Test Loss: 0.7641\n",
      "Epoch 300/1000, Train Loss: 0.0000, Test Loss: 0.7860\n",
      "Epoch 350/1000, Train Loss: 0.0000, Test Loss: 0.8039\n",
      "Epoch 400/1000, Train Loss: 0.0000, Test Loss: 0.8192\n",
      "Epoch 450/1000, Train Loss: 0.0000, Test Loss: 0.8326\n",
      "Epoch 500/1000, Train Loss: 0.0000, Test Loss: 0.8441\n",
      "Epoch 550/1000, Train Loss: 0.0000, Test Loss: 0.8546\n",
      "Epoch 600/1000, Train Loss: 0.0000, Test Loss: 0.8644\n",
      "Epoch 650/1000, Train Loss: 0.0000, Test Loss: 0.8734\n",
      "Epoch 700/1000, Train Loss: 0.0000, Test Loss: 0.8816\n",
      "Epoch 750/1000, Train Loss: 0.0000, Test Loss: 0.8887\n",
      "Epoch 800/1000, Train Loss: 0.0000, Test Loss: 0.8948\n",
      "Epoch 850/1000, Train Loss: 0.0000, Test Loss: 0.9005\n",
      "Epoch 900/1000, Train Loss: 0.0000, Test Loss: 0.9059\n",
      "Epoch 950/1000, Train Loss: 0.0000, Test Loss: 0.9111\n",
      "Epoch 1000/1000, Train Loss: 0.0000, Test Loss: 0.9160\n"
     ]
    }
   ],
   "source": [
    "train_network(model,optimizer,criterion,X_train,y_train,X_test,y_test,num_epochs,train_losses,test_losses)"
   ]
  },
  {
   "cell_type": "code",
   "execution_count": 41,
   "metadata": {
    "_cell_guid": "09514869-9b65-4631-9174-2222c3a5f460",
    "_uuid": "1e60e86d-ff1c-45d1-87e0-350260c6a601",
    "execution": {
     "iopub.execute_input": "2021-07-20T18:22:52.486713Z",
     "iopub.status.busy": "2021-07-20T18:22:52.486368Z",
     "iopub.status.idle": "2021-07-20T18:22:52.671478Z",
     "shell.execute_reply": "2021-07-20T18:22:52.670505Z",
     "shell.execute_reply.started": "2021-07-20T18:22:52.486679Z"
    },
    "jupyter": {
     "outputs_hidden": false
    }
   },
   "outputs": [
    {
     "data": {
      "image/png": "[encoded data removed]",
      "text/plain": [
       "<Figure size 720x720 with 1 Axes>"
      ]
     },
     "metadata": {
      "needs_background": "light"
     },
     "output_type": "display_data"
    }
   ],
   "source": [
    "plt.figure(figsize=(10,10))\n",
    "plt.plot(train_losses, label='train loss')\n",
    "plt.plot(test_losses, label='test loss')\n",
    "plt.legend()\n",
    "plt.show()"
   ]
  },
  {
   "cell_type": "code",
   "execution_count": 42,
   "metadata": {
    "_cell_guid": "d5feec25-0c3a-48f5-9372-39d68c45710d",
    "_uuid": "d7687301-5807-48da-a5a0-1bb3d6a4d93d",
    "execution": {
     "iopub.execute_input": "2021-07-20T18:22:52.673186Z",
     "iopub.status.busy": "2021-07-20T18:22:52.672877Z",
     "iopub.status.idle": "2021-07-20T18:22:52.679172Z",
     "shell.execute_reply": "2021-07-20T18:22:52.678127Z",
     "shell.execute_reply.started": "2021-07-20T18:22:52.673155Z"
    },
    "jupyter": {
     "outputs_hidden": false
    }
   },
   "outputs": [],
   "source": [
    "predictions_train = []\n",
    "predictions_test =  []\n",
    "with torch.no_grad():\n",
    "    predictions_train = model(X_train)\n",
    "    predictions_test = model(X_test)"
   ]
  },
  {
   "cell_type": "code",
   "execution_count": 47,
   "metadata": {
    "execution": {
     "iopub.execute_input": "2021-07-20T18:22:52.68076Z",
     "iopub.status.busy": "2021-07-20T18:22:52.680482Z",
     "iopub.status.idle": "2021-07-20T18:22:52.690378Z",
     "shell.execute_reply": "2021-07-20T18:22:52.689664Z",
     "shell.execute_reply.started": "2021-07-20T18:22:52.680731Z"
    }
   },
   "outputs": [
    {
     "data": {
      "text/plain": [
       "tensor([[ -3.0985,  18.6877, -13.7425],\n",
       "        [-13.0459,  -0.5528,   8.3272],\n",
       "        [-21.3631, -22.6028,  32.1385],\n",
       "        [ -8.9813,  15.7826,  -6.8143],\n",
       "        [-21.6974, -24.0740,  33.6451],\n",
       "        [ -3.0327,  14.6672, -10.1815],\n",
       "        [-25.1024, -21.1438,  33.7477],\n",
       "        [ -2.2314,  18.9963, -15.1932],\n",
       "        [ 28.8353,  13.7410, -48.6017],\n",
       "        [-17.1347, -13.3718,  21.4458],\n",
       "        [-13.6656,  14.4305,  -2.9095],\n",
       "        [ 30.6675,  10.3787, -47.8281],\n",
       "        [ 24.4077,  12.5936, -44.0377],\n",
       "        [ 28.6715,  12.2602, -47.0565],\n",
       "        [ -4.2762,  12.8887,  -7.6027],\n",
       "        [-15.7926,  -4.4610,  13.0892],\n",
       "        [ 27.2071,  14.3639, -47.1887],\n",
       "        [ 29.3933,  11.4940, -46.7041],\n",
       "        [ 30.2426,   9.9966, -46.7969],\n",
       "        [ -5.4054,  13.3868,  -7.4973],\n",
       "        [ 32.6280,  12.0514, -51.0462],\n",
       "        [ -0.5839,  14.3932, -12.7829],\n",
       "        [-18.2752, -14.4005,  23.5459],\n",
       "        [ 32.2502,  13.8151, -52.1719],\n",
       "        [ -4.2683,  17.4139, -11.3984],\n",
       "        [-19.5269, -14.6838,  23.9343],\n",
       "        [ 30.0040,  13.3323, -49.6778],\n",
       "        [ -3.6751,  15.4958, -10.3948],\n",
       "        [-18.5988,  -5.8102,  15.9515],\n",
       "        [ -7.6517,   8.9870,  -2.4692],\n",
       "        [ -4.0879,   7.5599,  -3.7391],\n",
       "        [-20.5517, -20.4652,  29.9320],\n",
       "        [ -8.9322,  12.5618,  -4.3297],\n",
       "        [ 33.3104,   8.6591, -49.1689],\n",
       "        [-16.7051, -17.5146,  24.9382],\n",
       "        [-12.6170,  -6.2645,  12.5431],\n",
       "        [ -6.5540,  14.1954,  -7.3355],\n",
       "        [ 30.5929,  17.2391, -53.1201],\n",
       "        [ -3.6298,  19.1011, -14.8526],\n",
       "        [ -7.3670,   8.7787,  -2.4719],\n",
       "        [ 31.2358,  13.9276, -51.3749],\n",
       "        [-20.5098, -19.6357,  28.8227],\n",
       "        [ 30.3847,   8.6901, -46.8125],\n",
       "        [ 30.4276,  11.1086, -47.3291],\n",
       "        [ -3.6528,  19.1808, -13.3952],\n",
       "        [  3.4570,  14.4695, -19.3648],\n",
       "        [ -4.9598,   7.7498,  -3.3814],\n",
       "        [-16.7114,  -6.7678,  15.4815],\n",
       "        [-24.7880, -18.6988,  31.5258],\n",
       "        [ -7.1596,  10.7203,  -4.5609],\n",
       "        [ 30.0040,  13.3323, -49.6778],\n",
       "        [ 33.5630,  17.2939, -56.6095],\n",
       "        [-18.2749,   0.7443,  10.3135],\n",
       "        [-13.2623,  -7.4075,  13.9957],\n",
       "        [ 33.6344,  11.8490, -52.1609],\n",
       "        [ 29.0332,  16.0278, -50.1097],\n",
       "        [ 30.8611,  13.4260, -50.3224],\n",
       "        [ -6.1810,  14.6515,  -7.7941],\n",
       "        [-18.7466, -20.7145,  28.8425],\n",
       "        [ 31.3817,  12.4777, -50.1738],\n",
       "        [-19.3824, -16.0951,  25.6106],\n",
       "        [-17.1347, -13.3718,  21.4458],\n",
       "        [ 30.8498,  10.1370, -47.9551],\n",
       "        [  1.0925,  15.7056, -15.8487],\n",
       "        [ -5.9202,  11.3314,  -5.4885],\n",
       "        [-14.6356,  -5.4396,  13.1272],\n",
       "        [ -5.4754,  10.6456,  -5.0954],\n",
       "        [-18.2505, -18.1594,  26.4181],\n",
       "        [ 32.2948,   9.8150, -49.2934],\n",
       "        [-16.4974, -12.7263,  20.9174],\n",
       "        [ -7.3512,  24.6313, -15.8417],\n",
       "        [-16.9133, -13.2358,  21.5736],\n",
       "        [ -5.1159,  17.8815, -12.2440],\n",
       "        [ -6.5915,  16.3631, -11.4022],\n",
       "        [ -4.7521,  18.4051, -12.1663],\n",
       "        [ 33.9357,   8.1799, -49.8891],\n",
       "        [ -4.5120,   9.9705,  -5.9007],\n",
       "        [ -6.0227,  10.7755,  -4.8939],\n",
       "        [ 31.0555,  13.0155, -50.3268],\n",
       "        [ -6.7311,  13.7690,  -7.2254],\n",
       "        [-22.0057, -10.3080,  21.9367],\n",
       "        [-17.9883, -12.6547,  22.0315],\n",
       "        [ 37.9453,   9.3153, -55.1468],\n",
       "        [ -6.3765,  16.7759,  -9.4259],\n",
       "        [-21.4312, -23.4750,  32.8438],\n",
       "        [-22.6101, -11.7795,  23.9761],\n",
       "        [ 31.9208,   8.6626, -48.3671],\n",
       "        [-21.5284, -21.9183,  31.6412],\n",
       "        [ 32.2985,  10.8955, -50.1808],\n",
       "        [ -8.8967,  13.7272,  -5.9163],\n",
       "        [-18.0136, -15.5199,  24.6734],\n",
       "        [-21.2275, -21.7047,  31.2000],\n",
       "        [-22.3038, -25.9238,  35.2536],\n",
       "        [-20.9427, -22.2891,  31.8802],\n",
       "        [ -0.8215,  13.4576, -11.6349],\n",
       "        [ -5.6394,  16.2822,  -9.5332],\n",
       "        [-26.3857, -18.3358,  32.1988],\n",
       "        [-13.8087,  -9.9419,  16.4928],\n",
       "        [ 31.8203,  11.3850, -49.3415],\n",
       "        [-12.6103,   9.2895,   0.6313],\n",
       "        [-21.7279, -14.2076,  25.6499],\n",
       "        [ 34.5660,  14.9787, -55.3527],\n",
       "        [ -0.6686,  14.4817, -15.4842],\n",
       "        [-17.4298, -14.7869,  23.1225]])"
      ]
     },
     "execution_count": 47,
     "metadata": {},
     "output_type": "execute_result"
    }
   ],
   "source": [
    "predictions_train "
   ]
  },
  {
   "cell_type": "code",
   "execution_count": 48,
   "metadata": {},
   "outputs": [
    {
     "data": {
      "text/plain": [
       "tensor([1, 2, 2, 1, 2, 1, 2, 1, 0, 2, 1, 0, 0, 0, 1, 2, 0, 0, 0, 1, 0, 1, 2, 0,\n",
       "        1, 2, 0, 1, 2, 1, 1, 2, 1, 0, 2, 2, 1, 0, 1, 1, 0, 2, 0, 0, 1, 1, 1, 2,\n",
       "        2, 1, 0, 0, 2, 2, 0, 0, 0, 1, 2, 0, 2, 2, 0, 1, 1, 2, 1, 2, 0, 2, 1, 2,\n",
       "        1, 1, 1, 0, 1, 1, 0, 1, 2, 2, 0, 1, 2, 2, 0, 2, 0, 1, 2, 2, 2, 2, 1, 1,\n",
       "        2, 2, 0, 1, 2, 0, 1, 2])"
      ]
     },
     "execution_count": 48,
     "metadata": {},
     "output_type": "execute_result"
    }
   ],
   "source": [
    "y_train"
   ]
  },
  {
   "cell_type": "code",
   "execution_count": 49,
   "metadata": {},
   "outputs": [
    {
     "data": {
      "text/plain": [
       "tensor([1, 0, 2, 1, 1, 0, 1, 2, 1, 1, 2, 0, 0, 0, 0, 1, 2, 1, 1, 2, 0, 2, 0, 2,\n",
       "        2, 2, 2, 2, 0, 0, 0, 0, 1, 0, 0, 2, 1, 0, 0, 0, 2, 1, 1, 0, 0])"
      ]
     },
     "execution_count": 49,
     "metadata": {},
     "output_type": "execute_result"
    }
   ],
   "source": [
    "y_test"
   ]
  },
  {
   "cell_type": "code",
   "execution_count": 44,
   "metadata": {
    "_cell_guid": "a1482815-9663-40a3-9862-74629256a354",
    "_uuid": "02d8e76a-b8a1-421c-a700-a37b7a39d6da",
    "execution": {
     "iopub.execute_input": "2021-07-20T18:22:52.691805Z",
     "iopub.status.busy": "2021-07-20T18:22:52.691487Z",
     "iopub.status.idle": "2021-07-20T18:22:52.7037Z",
     "shell.execute_reply": "2021-07-20T18:22:52.702863Z",
     "shell.execute_reply.started": "2021-07-20T18:22:52.691763Z"
    },
    "jupyter": {
     "outputs_hidden": false
    }
   },
   "outputs": [],
   "source": [
    "def get_accuracy_multiclass(pred_arr,original_arr):\n",
    "    if len(pred_arr)!=len(original_arr):\n",
    "        return False\n",
    "    pred_arr = pred_arr.numpy()\n",
    "    original_arr = original_arr.numpy()\n",
    "    final_pred= []\n",
    "    for i in range(len(pred_arr)):\n",
    "        final_pred.append(np.argmax(pred_arr[i]))\n",
    "    final_pred = np.array(final_pred)\n",
    "    count = 0\n",
    "    for i in range(len(original_arr)):\n",
    "        if final_pred[i] == original_arr[i]:\n",
    "            count+=1\n",
    "    return count/len(final_pred)"
   ]
  },
  {
   "cell_type": "code",
   "execution_count": 45,
   "metadata": {
    "_cell_guid": "e0821662-7223-4473-9ab4-0baae47c57be",
    "_uuid": "29382db4-2926-4c29-8a21-02b3236904c2",
    "execution": {
     "iopub.execute_input": "2021-07-20T18:22:52.705663Z",
     "iopub.status.busy": "2021-07-20T18:22:52.704798Z",
     "iopub.status.idle": "2021-07-20T18:22:52.838216Z",
     "shell.execute_reply": "2021-07-20T18:22:52.837253Z",
     "shell.execute_reply.started": "2021-07-20T18:22:52.705617Z"
    },
    "jupyter": {
     "outputs_hidden": false
    }
   },
   "outputs": [],
   "source": [
    "test_acc  = get_accuracy_multiclass(predictions_test,y_test)"
   ]
  },
  {
   "cell_type": "code",
   "execution_count": 46,
   "metadata": {
    "_cell_guid": "19fc14c5-bb9c-4988-90f7-87c94f8d9694",
    "_uuid": "07c02b8a-5044-4f5e-b610-1524495974ca",
    "execution": {
     "iopub.execute_input": "2021-07-20T18:22:52.840075Z",
     "iopub.status.busy": "2021-07-20T18:22:52.839641Z",
     "iopub.status.idle": "2021-07-20T18:22:52.852447Z",
     "shell.execute_reply": "2021-07-20T18:22:52.851192Z",
     "shell.execute_reply.started": "2021-07-20T18:22:52.840032Z"
    },
    "jupyter": {
     "outputs_hidden": false
    }
   },
   "outputs": [
    {
     "name": "stdout",
     "output_type": "stream",
     "text": [
      "Test Accuracy: 93.333\n"
     ]
    }
   ],
   "source": [
    "print(f\"Test Accuracy: {round(test_acc*100,3)}\")"
   ]
  },
  {
   "cell_type": "code",
   "execution_count": null,
   "metadata": {},
   "outputs": [],
   "source": []
  }
 ],
 "metadata": {
  "kernelspec": {
   "display_name": "Python 3",
   "language": "python",
   "name": "python3"
  },
  "language_info": {
   "codemirror_mode": {
    "name": "ipython",
    "version": 3
   },
   "file_extension": ".py",
   "mimetype": "text/x-python",
   "name": "python",
   "nbconvert_exporter": "python",
   "pygments_lexer": "ipython3",
   "version": "3.8.8"
  }
 },
 "nbformat": 4,
 "nbformat_minor": 4
}
